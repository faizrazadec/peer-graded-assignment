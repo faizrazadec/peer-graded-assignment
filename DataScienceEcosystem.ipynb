{
 "cells": [
  {
   "cell_type": "markdown",
   "id": "ed5a427f",
   "metadata": {},
   "source": [
    "# Data Science Tools and Ecosystem"
   ]
  },
  {
   "cell_type": "markdown",
   "id": "5d69d860",
   "metadata": {},
   "source": [
    "In this notebook, Data Science Tools and Ecosystem are summarized."
   ]
  },
  {
   "cell_type": "markdown",
   "id": "c8d7a5b0",
   "metadata": {},
   "source": [
    "Some of the popular languages that Data Scientists use are:\n",
    "1. Python\n",
    "2. R\n",
    "3. SQL\n",
    "4. Julia\n",
    "5. Java\n",
    "6. Scala\n",
    "7. JavaScript"
   ]
  },
  {
   "cell_type": "markdown",
   "id": "e3b6a09a",
   "metadata": {},
   "source": [
    "Some of the commonly used libraries used by Data Scientists include:\n",
    "1. NumPy\n",
    "2. Pandas\n",
    "3. Matplotlib\n",
    "4. Seaborn\n",
    "5. scikit-learn\n",
    "6. TensorFlow\n",
    "7. Keras\n",
    "8. PyTorch"
   ]
  },
  {
   "cell_type": "markdown",
   "id": "509a2edf",
   "metadata": {},
   "source": [
    "Data Science Tools:\n",
    "| Language      | Libraries/Frameworks    |\n",
    "|---------------|-------------------------|\n",
    "| Python        | NumPy, Pandas, Matplotlib, Seaborn, scikit-learn, TensorFlow, Keras, PyTorch, SciPy, NLTK, Plotly |\n",
    "| R             | ggplot2, dplyr, tidyr, caret, data.table, randomForest, glmnet, rpart, xgboost, tensorflow, keras |\n",
    "| SQL           | -                       |\n",
    "| Julia         | DataFrames, MLJ, Flux, MLJBase, MLJModels, MLJScientificTypes, StatsBase, GLM |\n",
    "| Java          | Weka, Deeplearning4j    |\n",
    "| Scala         | Breeze, Spark MLlib     |\n",
    "| JavaScript    | D3.js, Plotly.js        |\n",
    "| SAS           | -                       |\n",
    "| MATLAB        | -                       |\n"
   ]
  },
  {
   "cell_type": "markdown",
   "id": "1c315c32",
   "metadata": {},
   "source": [
    "### Below are a few examples of evaluating arithmetic expressions in Python"
   ]
  },
  {
   "cell_type": "markdown",
   "id": "65d31f36",
   "metadata": {},
   "source": [
    "Arithmetic expressions are mathematical expressions that involve basic arithmetic operations such as addition, subtraction, multiplication, and division. These expressions can be evaluated to obtain numerical results.\n",
    "\n",
    "Here are some examples of arithmetic expressions:\n",
    "\n",
    "1. Addition:\n",
    "   - `3 + 5` evaluates to `8`\n",
    "   - `12 + 34 + 56` evaluates to `102`\n",
    "\n",
    "2. Subtraction:\n",
    "   - `10 - 7` evaluates to `3`\n",
    "   - `100 - 20 - 10` evaluates to `70`\n",
    "\n",
    "3. Multiplication:\n",
    "   - `4 * 6` evaluates to `24`\n",
    "   - `2.5 * 3` evaluates to `7.5`\n",
    "\n",
    "4. Division:\n",
    "   - `20 / 5` evaluates to `4`\n",
    "   - `15 / 2` evaluates to `7.5`\n",
    "\n",
    "5. Combining Operations:\n",
    "   - `2 + 3 * 4` evaluates to `14` (Follows the order of operations: first multiplication, then addition)\n",
    "   - `(10 + 5) / (2 - 1)` evaluates to `15` (Uses parentheses to prioritize calculations)\n",
    "\n",
    "Arithmetic expressions are fundamental in programming, data analysis, and various mathematical computations. They allow us to perform numerical calculations and manipulate data efficiently.\n",
    "\n",
    "Remember that in different programming languages, the syntax for arithmetic expressions might vary slightly, but the fundamental principles remain the same.\n"
   ]
  },
  {
   "cell_type": "code",
   "execution_count": 3,
   "id": "d1fd86a7",
   "metadata": {},
   "outputs": [
    {
     "name": "stdout",
     "output_type": "stream",
     "text": [
      "17\n"
     ]
    }
   ],
   "source": [
    "# This is a simple arithmetic expression to multiply then add integers.\n",
    "result = (3 * 4) + 5\n",
    "\n",
    "# Print the result\n",
    "print(result)"
   ]
  },
  {
   "cell_type": "code",
   "execution_count": 4,
   "id": "6dd4d9a3",
   "metadata": {},
   "outputs": [
    {
     "name": "stdout",
     "output_type": "stream",
     "text": [
      "3.3333333333333335\n"
     ]
    }
   ],
   "source": [
    "# This will convert 200 minutes to hours by dividing by 60.\n",
    "minutes = 200\n",
    "hours = minutes / 60\n",
    "\n",
    "# Print the result\n",
    "print(hours)"
   ]
  },
  {
   "cell_type": "markdown",
   "id": "da48fc2c",
   "metadata": {},
   "source": [
    "## Objectives:\n",
    "\n",
    "- List popular programming languages used in Data Science.\n",
    "- Introduce common data science libraries and frameworks.\n",
    "- Explain the concept of version control and repositories in Git and GitHub.\n",
    "- Discuss the importance of continuous integration and continuous delivery (CI/CD) in software development.\n",
    "- Demonstrate simple arithmetic expressions in Python.\n",
    "- Convert minutes to hours using Python.\n",
    "\n",
    "By the end of this notebook, you should have a better understanding of some of the key tools, concepts, and techniques used in Data Science and Software Development.\n"
   ]
  },
  {
   "cell_type": "markdown",
   "id": "0769a31b",
   "metadata": {},
   "source": [
    "# Author\n",
    "\n",
    "Faiz Raza"
   ]
  }
 ],
 "metadata": {
  "kernelspec": {
   "display_name": "Python 3 (ipykernel)",
   "language": "python",
   "name": "python3"
  },
  "language_info": {
   "codemirror_mode": {
    "name": "ipython",
    "version": 3
   },
   "file_extension": ".py",
   "mimetype": "text/x-python",
   "name": "python",
   "nbconvert_exporter": "python",
   "pygments_lexer": "ipython3",
   "version": "3.10.9"
  }
 },
 "nbformat": 4,
 "nbformat_minor": 5
}
